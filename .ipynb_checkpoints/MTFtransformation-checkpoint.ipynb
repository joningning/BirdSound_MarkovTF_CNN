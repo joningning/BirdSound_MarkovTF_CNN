{
 "cells": [
  {
   "cell_type": "markdown",
   "id": "20a745c6-230d-4cb1-894f-fa5608decc94",
   "metadata": {},
   "source": [
    "### perform markov transition field transformation"
   ]
  },
  {
   "cell_type": "code",
   "execution_count": 1,
   "id": "5bb9e8cb-4d89-47f3-801b-1946e9c47406",
   "metadata": {},
   "outputs": [],
   "source": [
    "import os\n",
    "import numpy as np\n",
    "import matplotlib.pyplot as plt\n",
    "from scipy.signal import convolve2d"
   ]
  },
  {
   "cell_type": "code",
   "execution_count": 5,
   "id": "9ef95ca1-2ad3-44c5-b7be-884d02db5c29",
   "metadata": {},
   "outputs": [],
   "source": [
    "# Function to perform Markov Transition Field transformation\n",
    "def markov_transition_field(spectrogram, threshold):\n",
    "    # Convert spectrogram to grayscale\n",
    "    if len(spectrogram.shape) == 3:  # Check if image is RGB\n",
    "        grayscale_spectrogram = np.mean(spectrogram, axis=2)\n",
    "    else:\n",
    "        grayscale_spectrogram = spectrogram\n",
    "    \n",
    "    # Compute transition matrix using convolution\n",
    "    kernel = np.array([[0, 1, 0], [1, -4, 1], [0, 1, 0]])\n",
    "    transition_matrix = np.abs(convolve2d(grayscale_spectrogram, kernel, mode='same'))\n",
    "    \n",
    "    # Apply thresholding\n",
    "    transition_matrix[transition_matrix < threshold] = 0\n",
    "    transition_matrix[transition_matrix >= threshold] = 1\n",
    "    \n",
    "    return transition_matrix\n",
    "\n",
    "# Function to apply MTF transformation to a bulk of spectrograms\n",
    "def apply_mtf_to_bulk(spectrogram_folder, output_folder, threshold):\n",
    "    for filename in os.listdir(spectrogram_folder):\n",
    "        if filename.endswith('.png'):\n",
    "            spectrogram_file = os.path.join(spectrogram_folder, filename)\n",
    "            spectrogram = plt.imread(spectrogram_file)\n",
    "            transition_matrix = markov_transition_field(spectrogram, threshold)\n",
    "            output_file = os.path.join(output_folder, os.path.splitext(filename)[0] + '_mtf.png')\n",
    "            plt.imsave(output_file, transition_matrix, cmap='gray')\n",
    "\n",
    "# Folder containing the spectrogram images\n",
    "# spectrogram_folder = r'./dataset/data_sets/mtf_data_set/EurasianTreeSparrow_Spectrogram'\n",
    "# spectrogram_folder = \"./dataset/data_sets/mtf_data_set/PhilippinePygmyWoodpecker_Spectrograms\"\n",
    "# spectrogram_folder = \"./dataset/data_sets/mtf_data_set/Golden-belliedGerygone_Spectrograms\"\n",
    "spectrogram_folder = \"./dataset/data_sets/mtf_data_set/ZebraDove_Spectrograms\"\n",
    "\n",
    "# Output folder for MTF images\n",
    "# mtf_output_folder = r'./dataset/data_sets/mtf_data_set/EurasianTreeSparrow_MTFimage'\n",
    "# mtf_output_folder = \"./dataset/data_sets/mtf_data_set/PhilippinePygmyWoodpecker_MTFimage\"\n",
    "# mtf_output_folder = \"./dataset/data_sets/mtf_data_set/Golden-belliedGerygone_MTFimage\"\n",
    "mtf_output_folder = \"./dataset/data_sets/mtf_data_set/ZebraDove_MTFimage\"\n",
    "\n",
    "\n",
    "# Create output folder if it doesn't exist\n",
    "if not os.path.exists(mtf_output_folder):\n",
    "    os.makedirs(mtf_output_folder)\n",
    "\n",
    "# Threshold parameter for MTF transformation\n",
    "threshold = 0.001  # You can adjust this value as needed\n",
    "\n",
    "# Apply MTF transformation to the bulk of spectrograms\n",
    "apply_mtf_to_bulk(spectrogram_folder, mtf_output_folder, threshold)\n"
   ]
  },
  {
   "cell_type": "code",
   "execution_count": null,
   "id": "4178175f-769b-47b2-a771-defb1653eed8",
   "metadata": {},
   "outputs": [],
   "source": []
  }
 ],
 "metadata": {
  "kernelspec": {
   "display_name": "Python 3 (ipykernel)",
   "language": "python",
   "name": "python3"
  },
  "language_info": {
   "codemirror_mode": {
    "name": "ipython",
    "version": 3
   },
   "file_extension": ".py",
   "mimetype": "text/x-python",
   "name": "python",
   "nbconvert_exporter": "python",
   "pygments_lexer": "ipython3",
   "version": "3.12.0"
  }
 },
 "nbformat": 4,
 "nbformat_minor": 5
}
