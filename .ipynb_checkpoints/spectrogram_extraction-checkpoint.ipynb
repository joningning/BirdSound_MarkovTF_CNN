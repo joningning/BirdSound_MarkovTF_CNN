{
 "cells": [
  {
   "cell_type": "code",
   "execution_count": 4,
   "id": "dbb406dd-51d4-4e9a-af0c-90005d89734e",
   "metadata": {},
   "outputs": [],
   "source": [
    "import os\n",
    "import librosa\n",
    "import numpy as np\n",
    "import matplotlib.pyplot as plt\n",
    "from pathlib import Path\n"
   ]
  },
  {
   "cell_type": "code",
   "execution_count": 5,
   "id": "a81190a1-3a18-4c80-85cb-8aad3b93f571",
   "metadata": {},
   "outputs": [],
   "source": [
    "# Function to convert audio files to spectrograms\n",
    "def convert_to_spectrogram(audio_file, output_folder):\n",
    "    # Load audio file\n",
    "    y, sr = librosa.load(audio_file)\n",
    "    \n",
    "    # Compute STFT\n",
    "    D = librosa.stft(y)\n",
    "    \n",
    "    # Convert to magnitude spectrogram\n",
    "    mag = np.abs(D)\n",
    "    \n",
    "    # Plot and save the spectrogram\n",
    "    plt.figure(figsize=(10, 4))\n",
    "    librosa.display.specshow(librosa.amplitude_to_db(mag, ref=np.max), sr=sr, x_axis='time', y_axis='log')\n",
    "    plt.colorbar(format='%+2.0f dB')\n",
    "    plt.title('Log-frequency power spectrogram')\n",
    "    plt.savefig(os.path.join(output_folder, os.path.splitext(os.path.basename(audio_file))[0] + '_spectrogram.png'))\n",
    "    plt.close()\n",
    "\n",
    "# Folder containing the MP3 files\n",
    "input_folder1 = r'./dataset/data_sets/Passer montanus_Eurasian Tree Sparrow'\n",
    "input_folder2 = r'./dataset/data_sets/Yungipicus maculatus_Philippine Pygmy Woodpecker'\n",
    "input_folder3 = r'./dataset/data_sets/Gerygone sulphurea_Golden-bellied Gerygone'\n",
    "input_folder4 = r'./dataset/data_sets/Geopelia striata_Zebra Dove'\n",
    "\n",
    "# Output folder for spectrograms\n",
    "output_folder1 = \"./dataset/data_sets/Passer montanus_Eurasian Tree Sparrow/EurasianTreeSparrow_Spectrograms\"\n",
    "output_folder2 = \"./dataset/data_sets/Yungipicus maculatus_Philippine Pygmy Woodpecker/PhilippinePygmyWoodpecker_Spectrograms\"\n",
    "output_folder3 = \"./dataset/data_sets/Gerygone sulphurea_Golden-bellied Gerygone/Golden-belliedGerygone_Spectrograms\"\n",
    "output_folder4 = \"./dataset/data_sets/Geopelia striata_Zebra Dove/ZebraDove_Spectrograms\"\n",
    "\n"
   ]
  },
  {
   "cell_type": "code",
   "execution_count": null,
   "id": "190e35c8-ed0c-42e9-9b3c-6ff9c8a4cc35",
   "metadata": {},
   "outputs": [],
   "source": [
    "\n",
    "# Process each MP3 file in the input folder\n",
    "for filename in os.listdir(input_folder1):\n",
    "    if filename.endswith('.mp3'):\n",
    "        audio_file = os.path.join(input_folder1, filename)\n",
    "        convert_to_spectrogram(audio_file, output_folder1)\n",
    "        \n",
    "for filename in os.listdir(input_folder2):\n",
    "    if filename.endswith('.mp3'):\n",
    "        audio_file = os.path.join(input_folder2, filename)\n",
    "        convert_to_spectrogram(audio_file, output_folder2)\n",
    "        \n",
    "for filename in os.listdir(input_folder3):\n",
    "    if filename.endswith('.mp3'):\n",
    "        audio_file = os.path.join(input_folder3, filename)\n",
    "        convert_to_spectrogram(audio_file, output_folder3)\n",
    "        \n",
    "for filename in os.listdir(input_folder4):\n",
    "    if filename.endswith('.mp3'):\n",
    "        audio_file = os.path.join(input_folder4, filename)\n",
    "        convert_to_spectrogram(audio_file, output_folder4)"
   ]
  }
 ],
 "metadata": {
  "kernelspec": {
   "display_name": "Python 3 (ipykernel)",
   "language": "python",
   "name": "python3"
  },
  "language_info": {
   "codemirror_mode": {
    "name": "ipython",
    "version": 3
   },
   "file_extension": ".py",
   "mimetype": "text/x-python",
   "name": "python",
   "nbconvert_exporter": "python",
   "pygments_lexer": "ipython3",
   "version": "3.12.0"
  },
  "vscode": {
   "interpreter": {
    "hash": "60ee9eacdd95e82f15b54f1eccf1667e38d7ad8fce4c0025244c35bd5dcd6124"
   }
  }
 },
 "nbformat": 4,
 "nbformat_minor": 5
}
